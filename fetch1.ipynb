{
 "cells": [
  {
   "cell_type": "code",
   "execution_count": 1,
   "id": "393ded77-12dd-4120-be6b-cde18577d850",
   "metadata": {},
   "outputs": [],
   "source": [
    "import time, hashlib, requests, trafilatura\n",
    "from urllib.parse import urljoin, urlparse, urlunparse\n",
    "from bs4 import BeautifulSoup\n",
    "\n",
    "HEADERS = {\"User-Agent\": \"neuro-assistant/0.1 (docs-crawler)\"}\n",
    "\n",
    "def sha(text: str) -> str:\n",
    "    return hashlib.sha256(text.encode(\"utf-8\",\"ignore\")).hexdigest()[:12]\n",
    "\n",
    "def strip_fragment(u: str) -> str:\n",
    "    p = urlparse(u); return urlunparse(p._replace(fragment=\"\"))\n",
    "\n",
    "def is_same_site(u: str, base: str) -> bool:\n",
    "    pu, pb = urlparse(u), urlparse(base)\n",
    "    return (pu.scheme, pu.netloc) == (pb.scheme, pb.netloc)\n",
    "\n",
    "def fetch(url: str) -> str:\n",
    "    r = requests.get(url, timeout=30, headers=HEADERS)\n",
    "    r.raise_for_status()\n",
    "    return r.text\n",
    "\n",
    "def to_markdown(html: str, url: str) -> str:\n",
    "    md = trafilatura.extract(html, url=url, include_links=True,\n",
    "                             include_tables=True, include_formatting=True)\n",
    "    return md or \"\"\n"
   ]
  },
  {
   "cell_type": "code",
   "execution_count": 3,
   "id": "67373e1a-25a9-4a68-8c73-c004e3da04c4",
   "metadata": {},
   "outputs": [
    {
     "data": {
      "text/plain": [
       "(WindowsPath('C:/Users/Patron/neuro-assitant/artifacts/html'),\n",
       " WindowsPath('C:/Users/Patron/neuro-assitant/ artifacts/md'),\n",
       " WindowsPath('C:/Users/Patron/neuro-assitant/registry'))"
      ]
     },
     "execution_count": 3,
     "metadata": {},
     "output_type": "execute_result"
    }
   ],
   "source": [
    "\n",
    "          "
   ]
  },
  {
   "cell_type": "code",
   "execution_count": null,
   "id": "e6f02ff0-a09e-474b-b920-b576915d264d",
   "metadata": {},
   "outputs": [],
   "source": []
  }
 ],
 "metadata": {
  "kernelspec": {
   "display_name": "Python [conda env:base] *",
   "language": "python",
   "name": "conda-base-py"
  },
  "language_info": {
   "codemirror_mode": {
    "name": "ipython",
    "version": 3
   },
   "file_extension": ".py",
   "mimetype": "text/x-python",
   "name": "python",
   "nbconvert_exporter": "python",
   "pygments_lexer": "ipython3",
   "version": "3.13.5"
  }
 },
 "nbformat": 4,
 "nbformat_minor": 5
}
