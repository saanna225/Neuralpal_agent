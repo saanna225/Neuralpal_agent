import sys, subprocess
pkgs = [
    "requests>=2.31.0",
    "beautifulsoup4>=4.12.2",
    "lxml==5.2.1",                 # prebuilt wheel; avoids compiler pain on Windows
    "markdownify>=0.11.6",
    "rank-bm25>=0.2.2",
    "chromadb==0.5.5",             # stable with Py3.10 + pydantic v2
    "fastembed>=0.2.7",
    "pymupdf>=1.24.0",
    "numpy>=1.24.0",
]
subprocess.check_call([sys.executable, "-m", "pip", "install", "--upgrade", "--force-reinstall", *pkgs])

subprocess.check_call([sys.executable, "-m", "pip", "install", "-U", "pip", "setuptools", "wheel"])
